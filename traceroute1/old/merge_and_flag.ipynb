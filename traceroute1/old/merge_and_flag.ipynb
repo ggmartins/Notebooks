{
 "cells": [
  {
   "cell_type": "code",
   "execution_count": 1,
   "metadata": {},
   "outputs": [],
   "source": [
    "import pandas as pd\n",
    "tr=pd.read_json('https://projectbismark.net:8080/bismark/status/wsj/f6d25a080a/tr/traceroute.ta.json')\n",
    "ip=pd.read_csv('https://projectbismark.net:8080/bismark/status/wsj/f6d25a080a/tr/geoip1.csv')\n",
    "di=pd.read_csv('https://projectbismark.net:8080/bismark/status/wsj/f6d25a080a/tr/devinfo1.csv')"
   ]
  },
  {
   "cell_type": "code",
   "execution_count": 4,
   "metadata": {},
   "outputs": [
    {
     "name": "stderr",
     "output_type": "stream",
     "text": [
      "/usr/local/lib/python3.7/site-packages/ipykernel_launcher.py:1: UserWarning: DataFrame columns are not unique, some columns will be omitted.\n",
      "  \"\"\"Entry point for launching an IPython kernel.\n"
     ]
    }
   ],
   "source": [
    "ip_dict=ip.set_index('ip').T.to_dict()"
   ]
  },
  {
   "cell_type": "code",
   "execution_count": 7,
   "metadata": {},
   "outputs": [
    {
     "name": "stdout",
     "output_type": "stream",
     "text": [
      "(0, DestHost                                          52.73.53.78\n",
      "Flows       [9d92eac0f46293b2cf14c9d9d59c7d4d-netflix.com,...\n",
      "Hops        [192.168.143.1, 192.168.1.1, 100.41.206.8, 100...\n",
      "Meta                                                  Netflix\n",
      "RTTs        [0.9310269999999999, 1.228036, 93.01372, 7.751...\n",
      "id                                                  test_1166\n",
      "Name: 0, dtype: object)\n",
      "(1, DestHost                                          34.233.61.4\n",
      "Flows          [9837e087b95ec1bf13c4a71353ba1797-netflix.com]\n",
      "Hops        [192.168.143.1, 192.168.1.1, 192.168.143.35, 1...\n",
      "Meta                                                  Netflix\n",
      "RTTs        [0.8710249999999999, 1.232036, 24.524715, 10.1...\n",
      "id                                                  test_1166\n",
      "Name: 1, dtype: object)\n",
      "(2, DestHost                                           31.13.71.1\n",
      "Flows         [ac1097a76e6958fdb50b097c9b6b2f30-facebook.com]\n",
      "Hops        [192.168.143.1, 192.168.1.1, 192.168.143.37, 1...\n",
      "Meta                                                 Facebook\n",
      "RTTs        [1.019029, 1.285037, 86.22952, 9.756285, 74.82...\n",
      "id                                                  test_1166\n",
      "Name: 2, dtype: object)\n"
     ]
    }
   ],
   "source": [
    "for i in tr.head(3).iterrows():\n",
    "    print(i)"
   ]
  },
  {
   "cell_type": "code",
   "execution_count": null,
   "metadata": {},
   "outputs": [],
   "source": []
  }
 ],
 "metadata": {
  "kernelspec": {
   "display_name": "Python 3",
   "language": "python",
   "name": "python3"
  },
  "language_info": {
   "codemirror_mode": {
    "name": "ipython",
    "version": 3
   },
   "file_extension": ".py",
   "mimetype": "text/x-python",
   "name": "python",
   "nbconvert_exporter": "python",
   "pygments_lexer": "ipython3",
   "version": "3.7.3"
  }
 },
 "nbformat": 4,
 "nbformat_minor": 2
}
