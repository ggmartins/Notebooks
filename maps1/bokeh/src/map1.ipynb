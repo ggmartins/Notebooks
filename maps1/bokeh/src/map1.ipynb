{
 "cells": [
  {
   "cell_type": "code",
   "execution_count": 1,
   "metadata": {},
   "outputs": [],
   "source": [
    "import sys\n",
    "sys.path.append(\"../venv/lib/python3.7/site-packages/\")\n",
    "from bokeh.io import output_file, show, save\n",
    "from bokeh.models import GeoJSONDataSource\n",
    "from bokeh.plotting import figure\n",
    "from bokeh.sampledata.sample_geojson import geojson\n",
    "from bokeh.tile_providers import get_provider, Vendors\n",
    "from bokeh.models import ColumnDataSource, HoverTool\n",
    "import json\n",
    "from IPython.display import IFrame\n",
    "import math\n",
    "#from ast import literal_eval\n",
    "#import requests\n",
    "#from urllib.parse import urljoin"
   ]
  },
  {
   "cell_type": "code",
   "execution_count": 2,
   "metadata": {},
   "outputs": [],
   "source": [
    "#lift from\n",
    "#https://towardsdatascience.com/\n",
    "#exploring-and-visualizing-chicago-transit-data-using-pandas-and-bokeh-part-ii-intro-to-bokeh-5dca6c5ced10\n",
    "def merc(Coords):\n",
    "\n",
    "    lat = Coords['lat']\n",
    "    lng = Coords['lng']\n",
    "    \n",
    "    r_major = 6378137.000\n",
    "    x = r_major * math.radians(lng)\n",
    "    scale = x/lng\n",
    "    y = 180.0/math.pi * math.log(math.tan(math.pi/4.0 + \n",
    "        lat * (math.pi/180.0)/2.0)) * scale\n",
    "    return (x, y)"
   ]
  },
  {
   "cell_type": "code",
   "execution_count": 3,
   "metadata": {},
   "outputs": [],
   "source": [
    "origin = {'lat':41.795,'lng':-87.60} #your location here, Hyde Park, Chicago, US"
   ]
  },
  {
   "cell_type": "code",
   "execution_count": 4,
   "metadata": {},
   "outputs": [
    {
     "name": "stdout",
     "output_type": "stream",
     "text": [
      "(-9807358.458378194, 5127334.89537035)\n",
      "green\n"
     ]
    },
    {
     "data": {
      "text/html": [
       "\n",
       "        <iframe\n",
       "            width=\"1024\"\n",
       "            height=\"500\"\n",
       "            src=\"./tile1.html\"\n",
       "            frameborder=\"0\"\n",
       "            allowfullscreen\n",
       "        ></iframe>\n",
       "        "
      ],
      "text/plain": [
       "<IPython.lib.display.IFrame at 0x11e7b1dd0>"
      ]
     },
     "execution_count": 4,
     "metadata": {},
     "output_type": "execute_result"
    }
   ],
   "source": [
    "def map_plot(coords, origin = None, title = None):\n",
    "    \"\"\"Plot multiple points in a world map using array of dict coordinates.\n",
    "\n",
    "    Keyword arguments:\n",
    "    coords -- array of dict objects containing lat,lng,color \n",
    "              eg. [{lat: 41.795, lng: -87.60, color: 'green'}]\n",
    "    origin -- coordinates for your origin location (default None)\n",
    "    \"\"\"\n",
    "    \n",
    "    if origin:\n",
    "        o = merc(origin)\n",
    "        x_origin = [o[0]]\n",
    "        y_origin = [o[1]]\n",
    "\n",
    "    tile_provider = get_provider(Vendors.CARTODBPOSITRON)\n",
    "\n",
    "    # TODO: enable hover tool\n",
    "    #hover = HoverTool(tooltips=[\n",
    "    #    (\"station\", \"@stationname\"),\n",
    "    #    (\"ridership\",\"@ridership\")\n",
    "    #])\n",
    "\n",
    "    #source = ColumnDataSource(data=dict(\n",
    "    #                        x=list(Merged['coords_x']), \n",
    "    #                        y=list(Merged['coords_y']),\n",
    "    #                        ridership=list(Merged['monthtotal']),\n",
    "    #                        sizes=list(Merged['circle_sizes']),\n",
    "    #                        stationname=list(Merged['STATION_NAME'])))\n",
    "\n",
    "    p = figure(x_range=(-18780000, 18000000), y_range=(-1000000, 7000000),\n",
    "               x_axis_type=\"mercator\", y_axis_type=\"mercator\", \n",
    "               plot_width = 980, plot_height = 500, title = title)\n",
    "               #tools=[hover, '','wheel_zoom','save']\n",
    "    \n",
    "    p.add_tile(tile_provider)\n",
    "\n",
    "    if origin:\n",
    "        p.circle(x=x_origin, y=y_origin, size=10, color=\"black\")\n",
    "\n",
    "    ###\n",
    "    # plot multiple lines coming from the origin to dest. coordinates\n",
    "    #\n",
    "    if origin:\n",
    "        for coord in coords:\n",
    "            c = merc(coord)\n",
    "            c_x = [c[0]]\n",
    "            c_y = [c[1]]\n",
    "            #print(c)\n",
    "            #print(coord['color'])\n",
    "            p.multi_line(xs=[[x_origin, c_x]], \n",
    "                         ys=[[y_origin, c_y]],\n",
    "                         color=[coord['color']],\n",
    "                         line_width=2)\n",
    "    ###\n",
    "    # only plot point coordinates\n",
    "    #\n",
    "    else:\n",
    "        for coord in coords:\n",
    "            c_x = [c[0]]\n",
    "            c_y = [c[1]]\n",
    "            p.circle(x=c_x, y=c_y, size=10, color=coord['color'])\n",
    "\n",
    "    output_file(\"tile1.html\")\n",
    "    save(p)\n",
    "    return IFrame(src='./tile1.html', width=1024, height=500)\n",
    "    \n",
    "\n",
    "coords=[{'lat':41.775,'lng':-88.101,'color':'green'}]\n",
    "map_plot (coords, origin, title='TCP/UDP End Points')"
   ]
  },
  {
   "cell_type": "code",
   "execution_count": null,
   "metadata": {},
   "outputs": [],
   "source": [
    "#r = requests.request(\"GET\", \"http://192.168.100.1/geoip/8.8.8.8\")\n",
    "#r.json()"
   ]
  },
  {
   "cell_type": "code",
   "execution_count": null,
   "metadata": {},
   "outputs": [],
   "source": []
  }
 ],
 "metadata": {
  "kernelspec": {
   "display_name": "Python 3",
   "language": "python",
   "name": "python3"
  },
  "language_info": {
   "codemirror_mode": {
    "name": "ipython",
    "version": 3
   },
   "file_extension": ".py",
   "mimetype": "text/x-python",
   "name": "python",
   "nbconvert_exporter": "python",
   "pygments_lexer": "ipython3",
   "version": "3.7.6"
  }
 },
 "nbformat": 4,
 "nbformat_minor": 2
}
