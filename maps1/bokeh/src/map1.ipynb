{
 "cells": [
  {
   "cell_type": "code",
   "execution_count": 1,
   "metadata": {},
   "outputs": [],
   "source": [
    "import sys\n",
    "sys.path.append(\"../venv/lib/python3.7/site-packages/\")\n",
    "from bokeh.io import output_file, show, save\n",
    "from bokeh.models import GeoJSONDataSource\n",
    "from bokeh.plotting import figure\n",
    "from bokeh.sampledata.sample_geojson import geojson\n",
    "from bokeh.tile_providers import get_provider, Vendors\n",
    "from bokeh.models import ColumnDataSource, HoverTool\n",
    "import json\n",
    "from IPython.display import IFrame\n",
    "import math\n",
    "from ast import literal_eval"
   ]
  },
  {
   "cell_type": "code",
   "execution_count": 2,
   "metadata": {},
   "outputs": [],
   "source": [
    "#https://towardsdatascience.com/\n",
    "#exploring-and-visualizing-chicago-transit-data-using-pandas-and-bokeh-part-ii-intro-to-bokeh-5dca6c5ced10\n",
    "def merc(Coords):\n",
    "    Coordinates = literal_eval(Coords)\n",
    "    lat = Coordinates[0]\n",
    "    lon = Coordinates[1]\n",
    "    \n",
    "    r_major = 6378137.000\n",
    "    x = r_major * math.radians(lon)\n",
    "    scale = x/lon\n",
    "    y = 180.0/math.pi * math.log(math.tan(math.pi/4.0 + \n",
    "        lat * (math.pi/180.0)/2.0)) * scale\n",
    "    return (x, y)"
   ]
  },
  {
   "cell_type": "code",
   "execution_count": 3,
   "metadata": {},
   "outputs": [],
   "source": [
    "origin = merc('(41.795,-87.60)') # where are you (lat, long) ?"
   ]
  },
  {
   "cell_type": "code",
   "execution_count": 4,
   "metadata": {},
   "outputs": [
    {
     "data": {
      "text/html": [
       "\n",
       "        <iframe\n",
       "            width=\"1024\"\n",
       "            height=\"500\"\n",
       "            src=\"./tile2.html\"\n",
       "            frameborder=\"0\"\n",
       "            allowfullscreen\n",
       "        ></iframe>\n",
       "        "
      ],
      "text/plain": [
       "<IPython.lib.display.IFrame at 0x111d94350>"
      ]
     },
     "execution_count": 4,
     "metadata": {},
     "output_type": "execute_result"
    }
   ],
   "source": [
    "x_coords = [origin[0]]\n",
    "y_coords = [origin[1]]\n",
    "\n",
    "tile_provider = get_provider(Vendors.CARTODBPOSITRON)\n",
    "\n",
    "hover = HoverTool(tooltips=[\n",
    "    (\"station\", \"@stationname\"),\n",
    "    (\"ridership\",\"@ridership\")\n",
    "    \n",
    "])\n",
    "\n",
    "#source = ColumnDataSource(data=dict(\n",
    "#                        x=list(Merged['coords_x']), \n",
    "#                        y=list(Merged['coords_y']),\n",
    "#                        ridership=list(Merged['monthtotal']),\n",
    "#                        sizes=list(Merged['circle_sizes']),\n",
    "#                        stationname=list(Merged['STATION_NAME'])))\n",
    "\n",
    "p = figure(x_range=(-18780000, 18000000), y_range=(-1000000, 7000000),\n",
    "           x_axis_type=\"mercator\", y_axis_type=\"mercator\", \n",
    "           plot_width = 980, plot_height = 500, title = 'TCP/UDP End Points')\n",
    "           #tools=[hover, '','wheel_zoom','save']\n",
    "    \n",
    "p.add_tile(tile_provider)\n",
    "\n",
    "p.circle(x=x_coords, y=y_coords, size=10, color=\"green\")\n",
    "\n",
    "p.multi_line(xs=[[x_coords[0], x_coords[0]+2000]], \n",
    "             ys=[[y_coords[0], y_coords[0]+1000]],\n",
    "             color=['red'])\n",
    "\n",
    "\n",
    "p.multi_line(xs=[[x_coords[0], x_coords[0]+500]], \n",
    "             ys=[[y_coords[0], y_coords[0]+1000]],\n",
    "             color=['green'])\n",
    "\n",
    "output_file(\"tile1.html\")\n",
    "save(p)\n",
    "IFrame(src='./tile1.html', width=1024, height=500)"
   ]
  },
  {
   "cell_type": "code",
   "execution_count": null,
   "metadata": {},
   "outputs": [],
   "source": []
  }
 ],
 "metadata": {
  "kernelspec": {
   "display_name": "Python 3",
   "language": "python",
   "name": "python3"
  },
  "language_info": {
   "codemirror_mode": {
    "name": "ipython",
    "version": 3
   },
   "file_extension": ".py",
   "mimetype": "text/x-python",
   "name": "python",
   "nbconvert_exporter": "python",
   "pygments_lexer": "ipython3",
   "version": "3.7.6"
  }
 },
 "nbformat": 4,
 "nbformat_minor": 2
}
